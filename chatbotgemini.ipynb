{
  "nbformat": 4,
  "nbformat_minor": 0,
  "metadata": {
    "colab": {
      "provenance": [],
      "authorship_tag": "ABX9TyN1ir5SiusQ1tvTD7mObbXB",
      "include_colab_link": true
    },
    "kernelspec": {
      "name": "python3",
      "display_name": "Python 3"
    },
    "language_info": {
      "name": "python"
    }
  },
  "cells": [
    {
      "cell_type": "markdown",
      "metadata": {
        "id": "view-in-github",
        "colab_type": "text"
      },
      "source": [
        "<a href=\"https://colab.research.google.com/github/NUFISMT/My-first_LLM/blob/main/chatbotgemini.ipynb\" target=\"_parent\"><img src=\"https://colab.research.google.com/assets/colab-badge.svg\" alt=\"Open In Colab\"/></a>"
      ]
    },
    {
      "cell_type": "code",
      "execution_count": null,
      "metadata": {
        "id": "-gBQkhDog0Nq"
      },
      "outputs": [],
      "source": [
        "\n",
        "# Instalando a biblioteca\n",
        "!pip install -q -U google-generativeai\n",
        "#Importando a biblioteca\n",
        "import google.generativeai as genai\n",
        "# conectando ao Gemini com API KEY\n",
        "GOOGLE_API_KEY=\"COLE SUA api key\"\n",
        "genai.configure(api_key=GOOGLE_API_KEY)\n",
        "\n",
        "## Listar os modelos disponíveis\n",
        "for m in genai.list_models():\n",
        "    if 'generateContent' in m.supported_generation_methods:\n",
        "        print(m.name)\n",
        "# Configurando as gerações\n",
        "generation_config = {\n",
        "    \"candidate_count\": 1,\n",
        "    \"temperature\": 0.5\n",
        "}\n",
        "#Define as configurações de segurança para bloquear conteúdo indesejado.\n",
        "safety_settings = {\n",
        "    \"HATE\": \"BLOCK_NONE\",\n",
        "    \"SEXUAL\": \"BLOCK_NONE\",\n",
        "    \"DANGEROUS\": \"BLOCK_NONE\"\n",
        "}\n",
        "#Cria um modelo generativo chamado \"gemini-1.0-pro\" com as configurações de geração e segurança definidas\n",
        "model = genai.GenerativeModel(model_name=\"gemini-1.0-pro\", generation_config=generation_config, safety_settings=safety_settings)\n",
        "#Gera um conteúdo com a frase VAmos aprender conteúdo sobre IA no estudo da modelagem de impactos ambientais e imprimir a resposta\n",
        "response = model.generate_content(\"Vamos aprender conteúdo sobre IA no estudo da modelagem  de impactos ambientais\")\n",
        "print(response.text)\n",
        "#nicia um chat vazio.\n",
        "chat = model.start_chat(history=[])\n",
        "#Aguarda um prompt do usuário e, enquanto o prompt não for \"fim\", envia o prompt para o chat e imprime a resposta.\n",
        "prompt = input(\"Esperando prompt: \")\n",
        "\n",
        "while prompt != \"fim\":\n",
        "    response = chat.send_message(prompt)\n",
        "    print(\"Resposta: \", response.text, \"\\n\")\n",
        "    prompt = input(\"Esperando prompt: \")\n",
        "\n"
      ]
    }
  ]
}